{
 "cells": [
  {
   "cell_type": "code",
   "execution_count": null,
   "metadata": {
    "collapsed": false
   },
   "outputs": [],
   "source": []
  },
  {
   "cell_type": "code",
   "execution_count": 1,
   "metadata": {
    "collapsed": false
   },
   "outputs": [],
   "source": [
    "import pandas as pd\n",
    "#creat a column of the sum of normalize columns.  Each column has equal weight\n",
    "def create_summary_metric(columns_to_include,df_in):\n",
    "    nom_col = []\n",
    "    \n",
    "    df_in['Total Crimes'] = df_in['Total Crimes']*-1#invert crime coordinate from some the sum makes since\n",
    "    #create a new column with normalized values\n",
    "    for i in columns_to_include:\n",
    "        df_in[i+\"_nom\"] = df_in[i]/abs(df_in[i].mean()) \n",
    "        nom_col.append(i+\"_nom\")  \n",
    "    df_in['summary_metric'] = df_in[nom_col].sum(axis=1)\n",
    "    return df_in"
   ]
  },
  {
   "cell_type": "code",
   "execution_count": 10,
   "metadata": {
    "collapsed": false
   },
   "outputs": [],
   "source": [
    "data_in_path = 'C:\\\\real_estate_project_2\\\\data\\\\final_investment_criteria_truncated_numbers.csv'\n",
    "data_out_path = 'C:\\\\junk\\\\final_investment_criteria_out.csv' \n",
    "\n",
    "df = pd.read_csv(data_in_path)\n"
   ]
  },
  {
   "cell_type": "code",
   "execution_count": 11,
   "metadata": {
    "collapsed": false
   },
   "outputs": [
    {
     "data": {
      "text/plain": [
       "Index(['Unnamed: 0', 'Unnamed: 0.1', 'zip', 'latitude', 'longitude',\n",
       "       'Cost of Single Family Home', 'Rent', 'Normalized Ratio',\n",
       "       'School Rating', 'Total Crimes', 'job_growth_per', 'job_growth_per_nom',\n",
       "       'Normalized Ratio_nom', 'Total Crimes_nom', 'School Rating_nom',\n",
       "       'summary_metric'],\n",
       "      dtype='object')"
      ]
     },
     "execution_count": 11,
     "metadata": {},
     "output_type": "execute_result"
    }
   ],
   "source": [
    "df.keys()"
   ]
  },
  {
   "cell_type": "code",
   "execution_count": 12,
   "metadata": {
    "collapsed": false
   },
   "outputs": [],
   "source": [
    "summary_columns = ['job_growth_per','Normalized Ratio','Total Crimes','School Rating']\n",
    "\n",
    "df_out = create_summary_metric(summary_columns,df)\n",
    "\n",
    "df_out.to_csv(data_in_path)\n"
   ]
  },
  {
   "cell_type": "code",
   "execution_count": null,
   "metadata": {
    "collapsed": true
   },
   "outputs": [],
   "source": []
  }
 ],
 "metadata": {
  "anaconda-cloud": {},
  "kernelspec": {
   "display_name": "Python [conda root]",
   "language": "python",
   "name": "conda-root-py"
  },
  "language_info": {
   "codemirror_mode": {
    "name": "ipython",
    "version": 3
   },
   "file_extension": ".py",
   "mimetype": "text/x-python",
   "name": "python",
   "nbconvert_exporter": "python",
   "pygments_lexer": "ipython3",
   "version": "3.5.2"
  }
 },
 "nbformat": 4,
 "nbformat_minor": 2
}
